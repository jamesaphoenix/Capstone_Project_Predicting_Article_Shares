{
 "cells": [
  {
   "cell_type": "code",
   "execution_count": 1,
   "metadata": {},
   "outputs": [],
   "source": [
    "# Import Plotting Libraries\n",
    "import matplotlib.pyplot as plt\n",
    "import seaborn as sns\n",
    "\n",
    "# Importing Dependencies\n",
    "import pandas as pd\n",
    "import numpy as np\n",
    "from numpy import nan\n",
    "import ast\n",
    "import requests\n",
    "from urllib.parse import urljoin, urlunsplit, urlparse\n",
    "import bs4\n",
    "from bs4 import BeautifulSoup\n",
    "from bs4.element import Comment\n",
    "\n",
    "from collections import Counter\n",
    "from string import punctuation\n",
    "import csv\n",
    "\n",
    "import newspaper\n",
    "from newspaper import Article\n",
    "from newspaper import fulltext\n",
    "\n",
    "# Tokenization Of Sentences\n",
    "import nltk\n",
    "# nltk.download('punkt')\n",
    "\n",
    "# Readability Scores\n",
    "import textstat"
   ]
  },
  {
   "cell_type": "code",
   "execution_count": 2,
   "metadata": {},
   "outputs": [],
   "source": [
    "#Importing My Class From A SubFolder\n",
    "from Web_Crawlers.multi_thread_crawler import *"
   ]
  },
  {
   "cell_type": "code",
   "execution_count": 3,
   "metadata": {},
   "outputs": [],
   "source": [
    "# Web Scraping The Correct Entries\n",
    "\n",
    "master_dict = {\n",
    "'HTML_Content': [],\n",
    "'Full_Text': [],\n",
    "'Url': [],\n",
    "\n",
    "\n",
    "# Article Information \n",
    "'Authors': [],\n",
    "'Publish_Date': [],\n",
    "'Article_Text': [],\n",
    "'Article_Text_Length': [],\n",
    "'Has_Top_Image': [],\n",
    "'Number_of_Movies': [],\n",
    "'Article_Is_Media_News': [],\n",
    "'Number_Of_Images':[],\n",
    "'Is_Valid_Body': [],\n",
    "\n",
    "# NLP Features\n",
    "'Setences_Text': [],\n",
    "'Number_Of_Sentences': [],\n",
    "'Lexicon_Count': [],\n",
    "\n",
    "# Readability Scores\n",
    "'Flesch_Reading_Ease_formula': [],\n",
    "'Flesch_Kincaid_Grade_Level': [],\n",
    "'FOG_Scale': [],\n",
    "'SMOG_Index': [],\n",
    "'ARI_Index': [],\n",
    "\n",
    "\n",
    "# Meta_Data\n",
    "'Title_Text': [],\n",
    "'Title_Tag_Length' : [],\n",
    "'Meta_Description' : [],\n",
    "'Meta_Description_Length': [],\n",
    "\n",
    "\n",
    "# Extract_page_features\n",
    "'Body_Content_Links': [],\n",
    "'Number_Of_Links': [],\n",
    "'Links_To_Text_Ratio': [],\n",
    "\n",
    "\n",
    "# Technical Page Metrics\n",
    "'Page_Size_In_Bytes': [],\n",
    "'Plain_Text_Size': [],\n",
    "'Plain_Text_Rate': [],\n",
    "'Encoding': [],\n",
    "'SSL': []\n",
    "}"
   ]
  },
  {
   "cell_type": "code",
   "execution_count": 4,
   "metadata": {},
   "outputs": [],
   "source": [
    "# Digital Marketing Topics To Analyse\n",
    "\n",
    "affiliate_marketing = pd.read_excel('Data/affiliate+marketing-buzzsumo-08-15-2019-1565854956.xlsx')\n",
    "affiliate_marketing['Topic'] = 'Affiliate Marketing'\n",
    "content_marketing = pd.read_excel('Data/content+marketing-buzzsumo-08-15-2019-1565854912.xlsx')\n",
    "copywriting = pd.read_excel('Data/copywriting-buzzsumo-08-15-2019-1565854920.xlsx')\n",
    "display_advertising = pd.read_excel('Data/display+advertising-buzzsumo-08-15-2019-1565870373.xlsx')\n",
    "email_marketing = pd.read_excel('Data/email+marketing-buzzsumo-08-15-2019-1565854979.xlsx')\n",
    "growth_hacking = pd.read_excel('Data/growth+hacking-buzzsumo-08-15-2019-1565870492.xlsx')\n",
    "influencer_marketing = pd.read_excel('Data/influencer+marketing-buzzsumo-08-15-2019-1565855087.xlsx')\n",
    "link_building = pd.read_excel('Data/link+building-buzzsumo-08-15-2019-1565855026.xlsx')\n",
    "marketing_automation = pd.read_excel('Data/marketing+automation-buzzsumo-08-15-2019-1565854987.xlsx')\n",
    "podcast_marketing = pd.read_excel('Data/podcast+marketing-buzzsumo-08-15-2019-1565855137.xlsx')\n",
    "search_engine_marketing = pd.read_excel('Data/search+engine+mar...-buzzsumo-08-15-2019-1565854908.xlsx')\n",
    "social_media_marketing = pd.read_excel('Data/social+media+mark...-buzzsumo-08-15-2019-1565854956.xlsx')\n",
    "video_marketing = pd.read_excel('Data/video+marketing-buzzsumo-08-15-2019-1565854997.xlsx')\n",
    "website_design = pd.read_excel('Data/website+design-buzzsumo-08-15-2019-1565870346.xlsx')"
   ]
  },
  {
   "cell_type": "code",
   "execution_count": 5,
   "metadata": {},
   "outputs": [],
   "source": [
    "# Concatenating all of the individual topics\n",
    "\n",
    "df = pd.concat([affiliate_marketing, content_marketing, copywriting, \n",
    "                 display_advertising, email_marketing, growth_hacking, \n",
    "                 influencer_marketing, link_building, marketing_automation,\n",
    "                 podcast_marketing, search_engine_marketing, social_media_marketing,\n",
    "                 video_marketing, website_design], axis=0)"
   ]
  },
  {
   "cell_type": "code",
   "execution_count": 6,
   "metadata": {},
   "outputs": [],
   "source": [
    "# Removing Any Video Sharing Websites (i.e. YouTube / Vimeo)\n",
    "df = df[df['video'] == 0]\n",
    "df.drop(axis=1, columns=['video'], inplace=True)"
   ]
  },
  {
   "cell_type": "code",
   "execution_count": 7,
   "metadata": {},
   "outputs": [
    {
     "data": {
      "text/html": [
       "<div>\n",
       "<style scoped>\n",
       "    .dataframe tbody tr th:only-of-type {\n",
       "        vertical-align: middle;\n",
       "    }\n",
       "\n",
       "    .dataframe tbody tr th {\n",
       "        vertical-align: top;\n",
       "    }\n",
       "\n",
       "    .dataframe thead th {\n",
       "        text-align: right;\n",
       "    }\n",
       "</style>\n",
       "<table border=\"1\" class=\"dataframe\">\n",
       "  <thead>\n",
       "    <tr style=\"text-align: right;\">\n",
       "      <th></th>\n",
       "      <th>title</th>\n",
       "      <th>url</th>\n",
       "      <th>evergreen_score</th>\n",
       "      <th>total_shares</th>\n",
       "      <th>total_facebook_shares</th>\n",
       "      <th>twitter_shares</th>\n",
       "      <th>pinterest_shares</th>\n",
       "      <th>total_reddit_engagements</th>\n",
       "      <th>published_date</th>\n",
       "      <th>article_types</th>\n",
       "      <th>article_amplifiers</th>\n",
       "      <th>author_name</th>\n",
       "      <th>num_words</th>\n",
       "      <th>thumbnail</th>\n",
       "      <th>num_linking_domains</th>\n",
       "      <th>Topic</th>\n",
       "    </tr>\n",
       "  </thead>\n",
       "  <tbody>\n",
       "    <tr>\n",
       "      <td>1</td>\n",
       "      <td>Affiliate Marketing Coaching</td>\n",
       "      <td>https://online-business-box.com/amc-sp</td>\n",
       "      <td>2.18</td>\n",
       "      <td>9299</td>\n",
       "      <td>9292</td>\n",
       "      <td>2</td>\n",
       "      <td>5</td>\n",
       "      <td>0</td>\n",
       "      <td>2018-08-18</td>\n",
       "      <td>[\"all_content\", \"general_article\"]</td>\n",
       "      <td>NaN</td>\n",
       "      <td>Torben Karg</td>\n",
       "      <td>165</td>\n",
       "      <td>https://online-business-box.com/amc-sp</td>\n",
       "      <td>1.0</td>\n",
       "      <td>Affiliate Marketing</td>\n",
       "    </tr>\n",
       "    <tr>\n",
       "      <td>2</td>\n",
       "      <td>Affiliate Marketing for Dummies: A Smart Guide...</td>\n",
       "      <td>https://gatheringdreams.com/affiliate-marketin...</td>\n",
       "      <td>1.54</td>\n",
       "      <td>8021</td>\n",
       "      <td>46</td>\n",
       "      <td>1</td>\n",
       "      <td>7974</td>\n",
       "      <td>0</td>\n",
       "      <td>2018-08-23</td>\n",
       "      <td>[\"all_content\", \"general_article\"]</td>\n",
       "      <td>NaN</td>\n",
       "      <td>Julia Says</td>\n",
       "      <td>4767</td>\n",
       "      <td>https://gatheringdreams.com/wp-content/uploads...</td>\n",
       "      <td>1.0</td>\n",
       "      <td>Affiliate Marketing</td>\n",
       "    </tr>\n",
       "    <tr>\n",
       "      <td>3</td>\n",
       "      <td>Profitable Pinterest with Affiliate Marketing....</td>\n",
       "      <td>http://itsjustthelittlethings.com/profitable-p...</td>\n",
       "      <td>1.15</td>\n",
       "      <td>6853</td>\n",
       "      <td>7</td>\n",
       "      <td>1</td>\n",
       "      <td>6845</td>\n",
       "      <td>0</td>\n",
       "      <td>2018-08-21</td>\n",
       "      <td>[\"all_content\", \"general_article\"]</td>\n",
       "      <td>NaN</td>\n",
       "      <td>NaN</td>\n",
       "      <td>402</td>\n",
       "      <td>http://itsjustthelittlethings.com/wp-content/u...</td>\n",
       "      <td>1.0</td>\n",
       "      <td>Affiliate Marketing</td>\n",
       "    </tr>\n",
       "    <tr>\n",
       "      <td>4</td>\n",
       "      <td>HOW TO USE AFFILIATE MARKETING TO MAKE MONEY B...</td>\n",
       "      <td>https://itsclaudiag.com/2018/09/how-to-use-aff...</td>\n",
       "      <td>1.44</td>\n",
       "      <td>2569</td>\n",
       "      <td>3</td>\n",
       "      <td>1</td>\n",
       "      <td>2565</td>\n",
       "      <td>0</td>\n",
       "      <td>2018-09-16</td>\n",
       "      <td>[\"all_content\", \"how_to_article\", \"general_art...</td>\n",
       "      <td>NaN</td>\n",
       "      <td>NaN</td>\n",
       "      <td>1181</td>\n",
       "      <td>https://i1.wp.com/itsclaudiag.com/wp-content/u...</td>\n",
       "      <td>2.0</td>\n",
       "      <td>Affiliate Marketing</td>\n",
       "    </tr>\n",
       "    <tr>\n",
       "      <td>5</td>\n",
       "      <td>Geld verdienen mit Affiliate Marketing</td>\n",
       "      <td>https://digitalmoneymaker.de/geld-verdienen-mi...</td>\n",
       "      <td>1.34</td>\n",
       "      <td>1748</td>\n",
       "      <td>1741</td>\n",
       "      <td>5</td>\n",
       "      <td>2</td>\n",
       "      <td>0</td>\n",
       "      <td>2018-09-23</td>\n",
       "      <td>[\"all_content\", \"general_article\"]</td>\n",
       "      <td>NaN</td>\n",
       "      <td>Marc Pfitzer</td>\n",
       "      <td>391</td>\n",
       "      <td>https://digitalmoneymaker.de/wp-content/upload...</td>\n",
       "      <td>1.0</td>\n",
       "      <td>Affiliate Marketing</td>\n",
       "    </tr>\n",
       "  </tbody>\n",
       "</table>\n",
       "</div>"
      ],
      "text/plain": [
       "                                               title  \\\n",
       "1                       Affiliate Marketing Coaching   \n",
       "2  Affiliate Marketing for Dummies: A Smart Guide...   \n",
       "3  Profitable Pinterest with Affiliate Marketing....   \n",
       "4  HOW TO USE AFFILIATE MARKETING TO MAKE MONEY B...   \n",
       "5             Geld verdienen mit Affiliate Marketing   \n",
       "\n",
       "                                                 url  evergreen_score  \\\n",
       "1             https://online-business-box.com/amc-sp             2.18   \n",
       "2  https://gatheringdreams.com/affiliate-marketin...             1.54   \n",
       "3  http://itsjustthelittlethings.com/profitable-p...             1.15   \n",
       "4  https://itsclaudiag.com/2018/09/how-to-use-aff...             1.44   \n",
       "5  https://digitalmoneymaker.de/geld-verdienen-mi...             1.34   \n",
       "\n",
       "   total_shares  total_facebook_shares  twitter_shares  pinterest_shares  \\\n",
       "1          9299                   9292               2                 5   \n",
       "2          8021                     46               1              7974   \n",
       "3          6853                      7               1              6845   \n",
       "4          2569                      3               1              2565   \n",
       "5          1748                   1741               5                 2   \n",
       "\n",
       "   total_reddit_engagements published_date  \\\n",
       "1                         0     2018-08-18   \n",
       "2                         0     2018-08-23   \n",
       "3                         0     2018-08-21   \n",
       "4                         0     2018-09-16   \n",
       "5                         0     2018-09-23   \n",
       "\n",
       "                                       article_types article_amplifiers  \\\n",
       "1                 [\"all_content\", \"general_article\"]                NaN   \n",
       "2                 [\"all_content\", \"general_article\"]                NaN   \n",
       "3                 [\"all_content\", \"general_article\"]                NaN   \n",
       "4  [\"all_content\", \"how_to_article\", \"general_art...                NaN   \n",
       "5                 [\"all_content\", \"general_article\"]                NaN   \n",
       "\n",
       "    author_name  num_words                                          thumbnail  \\\n",
       "1   Torben Karg        165             https://online-business-box.com/amc-sp   \n",
       "2    Julia Says       4767  https://gatheringdreams.com/wp-content/uploads...   \n",
       "3           NaN        402  http://itsjustthelittlethings.com/wp-content/u...   \n",
       "4           NaN       1181  https://i1.wp.com/itsclaudiag.com/wp-content/u...   \n",
       "5  Marc Pfitzer        391  https://digitalmoneymaker.de/wp-content/upload...   \n",
       "\n",
       "   num_linking_domains                Topic  \n",
       "1                  1.0  Affiliate Marketing  \n",
       "2                  1.0  Affiliate Marketing  \n",
       "3                  1.0  Affiliate Marketing  \n",
       "4                  2.0  Affiliate Marketing  \n",
       "5                  1.0  Affiliate Marketing  "
      ]
     },
     "execution_count": 7,
     "metadata": {},
     "output_type": "execute_result"
    }
   ],
   "source": [
    "df.head(5)"
   ]
  },
  {
   "cell_type": "code",
   "execution_count": 8,
   "metadata": {},
   "outputs": [],
   "source": [
    "# Extracting Out A List of URL's To Test\n",
    "url_list = list(df['url'])"
   ]
  },
  {
   "cell_type": "code",
   "execution_count": 9,
   "metadata": {
    "scrolled": true
   },
   "outputs": [
    {
     "data": {
      "text/plain": [
       "31489"
      ]
     },
     "execution_count": 9,
     "metadata": {},
     "output_type": "execute_result"
    }
   ],
   "source": [
    "len(url_list)"
   ]
  },
  {
   "cell_type": "markdown",
   "metadata": {},
   "source": [
    "### Scraping All Of Our 30,000 URL's To Enrich With More Data"
   ]
  },
  {
   "cell_type": "code",
   "execution_count": 10,
   "metadata": {},
   "outputs": [],
   "source": [
    "# s = MultiThreadScraper(\"https://edmundmartin.com\", master_dict, url_list, 4)\n",
    "# s.run_scraper()"
   ]
  },
  {
   "cell_type": "markdown",
   "metadata": {},
   "source": [
    "### Saving Data To A Csv"
   ]
  },
  {
   "cell_type": "code",
   "execution_count": 11,
   "metadata": {},
   "outputs": [],
   "source": [
    "# df_test.to_csv('raw_data.csv', index=False)"
   ]
  },
  {
   "cell_type": "markdown",
   "metadata": {},
   "source": [
    "### Reading Data From A Csv"
   ]
  },
  {
   "cell_type": "code",
   "execution_count": 13,
   "metadata": {},
   "outputs": [],
   "source": [
    "import pandas as pd"
   ]
  },
  {
   "cell_type": "code",
   "execution_count": 14,
   "metadata": {},
   "outputs": [],
   "source": [
    "df_test = pd.read_csv('Ignore/raw_data.csv')"
   ]
  },
  {
   "cell_type": "code",
   "execution_count": 15,
   "metadata": {},
   "outputs": [
    {
     "data": {
      "text/html": [
       "<div>\n",
       "<style scoped>\n",
       "    .dataframe tbody tr th:only-of-type {\n",
       "        vertical-align: middle;\n",
       "    }\n",
       "\n",
       "    .dataframe tbody tr th {\n",
       "        vertical-align: top;\n",
       "    }\n",
       "\n",
       "    .dataframe thead th {\n",
       "        text-align: right;\n",
       "    }\n",
       "</style>\n",
       "<table border=\"1\" class=\"dataframe\">\n",
       "  <thead>\n",
       "    <tr style=\"text-align: right;\">\n",
       "      <th></th>\n",
       "      <th>HTML_Content</th>\n",
       "      <th>Full_Text</th>\n",
       "      <th>Url</th>\n",
       "      <th>Authors</th>\n",
       "      <th>Publish_Date</th>\n",
       "      <th>Article_Text</th>\n",
       "      <th>Article_Text_Length</th>\n",
       "      <th>Has_Top_Image</th>\n",
       "      <th>Number_of_Movies</th>\n",
       "      <th>Article_Is_Media_News</th>\n",
       "      <th>...</th>\n",
       "      <th>ARI_Index</th>\n",
       "      <th>Title_Text</th>\n",
       "      <th>Title_Tag_Length</th>\n",
       "      <th>Meta_Description</th>\n",
       "      <th>Meta_Description_Length</th>\n",
       "      <th>Body_Content_Links</th>\n",
       "      <th>Number_Of_Links</th>\n",
       "      <th>Links_To_Text_Ratio</th>\n",
       "      <th>Encoding</th>\n",
       "      <th>SSL</th>\n",
       "    </tr>\n",
       "  </thead>\n",
       "  <tbody>\n",
       "    <tr>\n",
       "      <td>0</td>\n",
       "      <td>&lt;!DOCTYPE html&gt;\\n&lt;html lang=\"en-US\"&gt;\\n&lt;head &gt;\\...</td>\n",
       "      <td>Some of the links below are affiliate links, s...</td>\n",
       "      <td>https://gatheringdreams.com/affiliate-marketin...</td>\n",
       "      <td>['Sara', 'Gathering Dreams', 'Julian Ezurike',...</td>\n",
       "      <td>2018-04-20 22:36:27+00:00</td>\n",
       "      <td>Some of the links below are affiliate links, s...</td>\n",
       "      <td>27301</td>\n",
       "      <td>1</td>\n",
       "      <td>0</td>\n",
       "      <td>0</td>\n",
       "      <td>...</td>\n",
       "      <td>21.2</td>\n",
       "      <td>Affiliate Marketing for Dummies: A Smart Guide...</td>\n",
       "      <td>79</td>\n",
       "      <td>A step-by-step affiliate marketing for dummies...</td>\n",
       "      <td>151</td>\n",
       "      <td>0</td>\n",
       "      <td>0</td>\n",
       "      <td>0.0</td>\n",
       "      <td>UTF-8</td>\n",
       "      <td>1</td>\n",
       "    </tr>\n",
       "    <tr>\n",
       "      <td>1</td>\n",
       "      <td>\\n&lt;!DOCTYPE HTML&gt;\\n\\n\\n&lt;html lang=\"de-DE\"&gt;\\n\\n...</td>\n",
       "      <td>Insert details about how the information is go...</td>\n",
       "      <td>https://digitalmoneymaker.de/geld-verdienen-mi...</td>\n",
       "      <td>['Marc Pfitzer']</td>\n",
       "      <td>NaN</td>\n",
       "      <td>\"Gunnar Kessler ist der absolute Vollprofi und...</td>\n",
       "      <td>3654</td>\n",
       "      <td>1</td>\n",
       "      <td>0</td>\n",
       "      <td>0</td>\n",
       "      <td>...</td>\n",
       "      <td>40.0</td>\n",
       "      <td>Digital Money Maker Geld verdienen mit Affilia...</td>\n",
       "      <td>58</td>\n",
       "      <td>Digital Money Maker -</td>\n",
       "      <td>22</td>\n",
       "      <td>0</td>\n",
       "      <td>0</td>\n",
       "      <td>0.0</td>\n",
       "      <td>UTF-8</td>\n",
       "      <td>1</td>\n",
       "    </tr>\n",
       "    <tr>\n",
       "      <td>2</td>\n",
       "      <td>&lt;!doctype html&gt;\\r\\n&lt;html lang=\"es\"&gt;\\r\\n&lt;head&gt;\\...</td>\n",
       "      <td>Would you like to make money while you sleep?\\...</td>\n",
       "      <td>https://itsclaudiag.com/2018/09/how-to-use-aff...</td>\n",
       "      <td>[]</td>\n",
       "      <td>2018-09-16 14:01:30+00:00</td>\n",
       "      <td>Would you like to make money while you sleep?\\...</td>\n",
       "      <td>6519</td>\n",
       "      <td>1</td>\n",
       "      <td>0</td>\n",
       "      <td>0</td>\n",
       "      <td>...</td>\n",
       "      <td>17.6</td>\n",
       "      <td>HOW TO USE AFFILIATE MARKETING TO MAKE MONEY B...</td>\n",
       "      <td>69</td>\n",
       "      <td>Do you want to make money while you sleep? Her...</td>\n",
       "      <td>150</td>\n",
       "      <td>0</td>\n",
       "      <td>0</td>\n",
       "      <td>0.0</td>\n",
       "      <td>UTF-8</td>\n",
       "      <td>1</td>\n",
       "    </tr>\n",
       "    <tr>\n",
       "      <td>3</td>\n",
       "      <td>&lt;!DOCTYPE html&gt;&lt;html lang=\"en-US\" prefix=\"og: ...</td>\n",
       "      <td>Learn affiliate marketing for beginners guide....</td>\n",
       "      <td>https://herpaperroute.com/learn-affiliate-mark...</td>\n",
       "      <td>['Authority Niche Blog']</td>\n",
       "      <td>2018-09-19 19:55:47+00:00</td>\n",
       "      <td>Learn affiliate marketing for beginners guide....</td>\n",
       "      <td>14655</td>\n",
       "      <td>1</td>\n",
       "      <td>0</td>\n",
       "      <td>0</td>\n",
       "      <td>...</td>\n",
       "      <td>70.2</td>\n",
       "      <td>Learn Affiliate Marketing For Beginners - Make...</td>\n",
       "      <td>57</td>\n",
       "      <td>Learn Affiliate Marketing For Beginners - What...</td>\n",
       "      <td>148</td>\n",
       "      <td>0</td>\n",
       "      <td>0</td>\n",
       "      <td>0.0</td>\n",
       "      <td>UTF-8</td>\n",
       "      <td>1</td>\n",
       "    </tr>\n",
       "    <tr>\n",
       "      <td>4</td>\n",
       "      <td>\\t\\n&lt;!doctype html&gt;\\n&lt;html lang=\"en\" itemscope...</td>\n",
       "      <td>Learn three simple strategies to help you stac...</td>\n",
       "      <td>https://www.entrepreneur.com/article/319017</td>\n",
       "      <td>['Josh Stanton']</td>\n",
       "      <td>2018-09-12 14:00:00+00:00</td>\n",
       "      <td>Learn three simple strategies to help you stac...</td>\n",
       "      <td>5916</td>\n",
       "      <td>1</td>\n",
       "      <td>0</td>\n",
       "      <td>0</td>\n",
       "      <td>...</td>\n",
       "      <td>18.6</td>\n",
       "      <td>How to Build a Profitable Business Online by S...</td>\n",
       "      <td>60</td>\n",
       "      <td>Learn three simple strategies to help you stac...</td>\n",
       "      <td>122</td>\n",
       "      <td>0</td>\n",
       "      <td>0</td>\n",
       "      <td>0.0</td>\n",
       "      <td>UTF-8</td>\n",
       "      <td>1</td>\n",
       "    </tr>\n",
       "    <tr>\n",
       "      <td>5</td>\n",
       "      <td>&lt;!doctype html&gt;&lt;html lang=\"en-US\" prefix=\"og: ...</td>\n",
       "      <td>This post may contain affiliate links. Please ...</td>\n",
       "      <td>https://www.finsavvypanda.com/how-to-make-mone...</td>\n",
       "      <td>[]</td>\n",
       "      <td>2018-10-09 23:36:57+00:00</td>\n",
       "      <td>This post may contain affiliate links. Please ...</td>\n",
       "      <td>12657</td>\n",
       "      <td>1</td>\n",
       "      <td>0</td>\n",
       "      <td>0</td>\n",
       "      <td>...</td>\n",
       "      <td>15.2</td>\n",
       "      <td>How To Make Money With Affiliate Marketing For...</td>\n",
       "      <td>73</td>\n",
       "      <td>No Meta_Description</td>\n",
       "      <td>19</td>\n",
       "      <td>0</td>\n",
       "      <td>0</td>\n",
       "      <td>0.0</td>\n",
       "      <td>utf-8</td>\n",
       "      <td>1</td>\n",
       "    </tr>\n",
       "  </tbody>\n",
       "</table>\n",
       "<p>6 rows × 29 columns</p>\n",
       "</div>"
      ],
      "text/plain": [
       "                                        HTML_Content  \\\n",
       "0  <!DOCTYPE html>\\n<html lang=\"en-US\">\\n<head >\\...   \n",
       "1  \\n<!DOCTYPE HTML>\\n\\n\\n<html lang=\"de-DE\">\\n\\n...   \n",
       "2  <!doctype html>\\r\\n<html lang=\"es\">\\r\\n<head>\\...   \n",
       "3  <!DOCTYPE html><html lang=\"en-US\" prefix=\"og: ...   \n",
       "4  \\t\\n<!doctype html>\\n<html lang=\"en\" itemscope...   \n",
       "5  <!doctype html><html lang=\"en-US\" prefix=\"og: ...   \n",
       "\n",
       "                                           Full_Text  \\\n",
       "0  Some of the links below are affiliate links, s...   \n",
       "1  Insert details about how the information is go...   \n",
       "2  Would you like to make money while you sleep?\\...   \n",
       "3  Learn affiliate marketing for beginners guide....   \n",
       "4  Learn three simple strategies to help you stac...   \n",
       "5  This post may contain affiliate links. Please ...   \n",
       "\n",
       "                                                 Url  \\\n",
       "0  https://gatheringdreams.com/affiliate-marketin...   \n",
       "1  https://digitalmoneymaker.de/geld-verdienen-mi...   \n",
       "2  https://itsclaudiag.com/2018/09/how-to-use-aff...   \n",
       "3  https://herpaperroute.com/learn-affiliate-mark...   \n",
       "4        https://www.entrepreneur.com/article/319017   \n",
       "5  https://www.finsavvypanda.com/how-to-make-mone...   \n",
       "\n",
       "                                             Authors  \\\n",
       "0  ['Sara', 'Gathering Dreams', 'Julian Ezurike',...   \n",
       "1                                   ['Marc Pfitzer']   \n",
       "2                                                 []   \n",
       "3                           ['Authority Niche Blog']   \n",
       "4                                   ['Josh Stanton']   \n",
       "5                                                 []   \n",
       "\n",
       "                Publish_Date  \\\n",
       "0  2018-04-20 22:36:27+00:00   \n",
       "1                        NaN   \n",
       "2  2018-09-16 14:01:30+00:00   \n",
       "3  2018-09-19 19:55:47+00:00   \n",
       "4  2018-09-12 14:00:00+00:00   \n",
       "5  2018-10-09 23:36:57+00:00   \n",
       "\n",
       "                                        Article_Text  Article_Text_Length  \\\n",
       "0  Some of the links below are affiliate links, s...                27301   \n",
       "1  \"Gunnar Kessler ist der absolute Vollprofi und...                 3654   \n",
       "2  Would you like to make money while you sleep?\\...                 6519   \n",
       "3  Learn affiliate marketing for beginners guide....                14655   \n",
       "4  Learn three simple strategies to help you stac...                 5916   \n",
       "5  This post may contain affiliate links. Please ...                12657   \n",
       "\n",
       "   Has_Top_Image  Number_of_Movies  Article_Is_Media_News  ...  ARI_Index  \\\n",
       "0              1                 0                      0  ...       21.2   \n",
       "1              1                 0                      0  ...       40.0   \n",
       "2              1                 0                      0  ...       17.6   \n",
       "3              1                 0                      0  ...       70.2   \n",
       "4              1                 0                      0  ...       18.6   \n",
       "5              1                 0                      0  ...       15.2   \n",
       "\n",
       "                                          Title_Text Title_Tag_Length  \\\n",
       "0  Affiliate Marketing for Dummies: A Smart Guide...               79   \n",
       "1  Digital Money Maker Geld verdienen mit Affilia...               58   \n",
       "2  HOW TO USE AFFILIATE MARKETING TO MAKE MONEY B...               69   \n",
       "3  Learn Affiliate Marketing For Beginners - Make...               57   \n",
       "4  How to Build a Profitable Business Online by S...               60   \n",
       "5  How To Make Money With Affiliate Marketing For...               73   \n",
       "\n",
       "                                    Meta_Description  Meta_Description_Length  \\\n",
       "0  A step-by-step affiliate marketing for dummies...                      151   \n",
       "1                             Digital Money Maker -                        22   \n",
       "2  Do you want to make money while you sleep? Her...                      150   \n",
       "3  Learn Affiliate Marketing For Beginners - What...                      148   \n",
       "4  Learn three simple strategies to help you stac...                      122   \n",
       "5                                No Meta_Description                       19   \n",
       "\n",
       "   Body_Content_Links  Number_Of_Links  Links_To_Text_Ratio  Encoding  SSL  \n",
       "0                   0                0                  0.0     UTF-8    1  \n",
       "1                   0                0                  0.0     UTF-8    1  \n",
       "2                   0                0                  0.0     UTF-8    1  \n",
       "3                   0                0                  0.0     UTF-8    1  \n",
       "4                   0                0                  0.0     UTF-8    1  \n",
       "5                   0                0                  0.0     utf-8    1  \n",
       "\n",
       "[6 rows x 29 columns]"
      ]
     },
     "execution_count": 15,
     "metadata": {},
     "output_type": "execute_result"
    }
   ],
   "source": [
    "df_test.head(6)"
   ]
  },
  {
   "cell_type": "code",
   "execution_count": 35,
   "metadata": {},
   "outputs": [
    {
     "data": {
      "text/plain": [
       "Index(['HTML_Content', 'Full_Text', 'Url', 'Article_Text',\n",
       "       'Article_Text_Length', 'Has_Top_Image', 'Number_of_Movies',\n",
       "       'Article_Is_Media_News', 'Number_Of_Images', 'Is_Valid_Body',\n",
       "       'Setences_Text', 'Number_Of_Sentences', 'Lexicon_Count',\n",
       "       'Flesch_Reading_Ease_formula', 'Flesch_Kincaid_Grade_Level',\n",
       "       'FOG_Scale', 'SMOG_Index', 'ARI_Index', 'Title_Text',\n",
       "       'Title_Tag_Length', 'Meta_Description', 'Meta_Description_Length',\n",
       "       'Encoding', 'SSL'],\n",
       "      dtype='object')"
      ]
     },
     "execution_count": 35,
     "metadata": {},
     "output_type": "execute_result"
    }
   ],
   "source": [
    "df_test.columns"
   ]
  },
  {
   "cell_type": "code",
   "execution_count": 36,
   "metadata": {},
   "outputs": [],
   "source": [
    "# Creating Additional Features\n",
    "df_test['Page_Size_In_Bytes'] = df_test['HTML_Content'].apply(lambda x: len(x))\n",
    "df_test['Plain_Text_Size'] = df_test['Full_Text'].apply(lambda x: len(x))\n",
    "df_test['Plain_Text_Rate'] = [(item[0]/item[1]) * 100 for item in df_test[['Plain_Text_Size', 'Page_Size_In_Bytes']].values]"
   ]
  },
  {
   "cell_type": "code",
   "execution_count": 37,
   "metadata": {},
   "outputs": [],
   "source": [
    "# Filtering Out Junk Data\n",
    "\n",
    "#1. Removing Articles Which We Couldn't Scrape The Full Text / Article Text.\n",
    "df_test = df_test[df_test['Full_Text'] != 'No Text']\n",
    "\n",
    "#2. Removing Any Articles That Had A Plain Text Size Under 100 As This Is Likely Junk.\n",
    "df_test = df_test[df_test['Plain_Text_Size'] > 100]"
   ]
  },
  {
   "cell_type": "code",
   "execution_count": 38,
   "metadata": {},
   "outputs": [
    {
     "data": {
      "text/plain": [
       "HTML_Content                    object\n",
       "Full_Text                       object\n",
       "Url                             object\n",
       "Article_Text                    object\n",
       "Article_Text_Length              int64\n",
       "Has_Top_Image                    int64\n",
       "Number_of_Movies                 int64\n",
       "Article_Is_Media_News            int64\n",
       "Number_Of_Images                 int64\n",
       "Is_Valid_Body                    int64\n",
       "Setences_Text                   object\n",
       "Number_Of_Sentences              int64\n",
       "Lexicon_Count                    int64\n",
       "Flesch_Reading_Ease_formula    float64\n",
       "Flesch_Kincaid_Grade_Level     float64\n",
       "FOG_Scale                      float64\n",
       "SMOG_Index                     float64\n",
       "ARI_Index                      float64\n",
       "Title_Text                      object\n",
       "Title_Tag_Length                 int64\n",
       "Meta_Description                object\n",
       "Meta_Description_Length          int64\n",
       "Encoding                        object\n",
       "SSL                              int64\n",
       "Page_Size_In_Bytes               int64\n",
       "Plain_Text_Size                  int64\n",
       "Plain_Text_Rate                float64\n",
       "dtype: object"
      ]
     },
     "execution_count": 38,
     "metadata": {},
     "output_type": "execute_result"
    }
   ],
   "source": [
    "df_test.dtypes"
   ]
  },
  {
   "cell_type": "markdown",
   "metadata": {},
   "source": [
    "---------------------------------------------------------------------------------------------------------------------------------------------------------------------"
   ]
  },
  {
   "cell_type": "markdown",
   "metadata": {},
   "source": [
    "### Concatenating The Two Datasets Together "
   ]
  },
  {
   "cell_type": "code",
   "execution_count": 39,
   "metadata": {},
   "outputs": [],
   "source": [
    "df.rename(columns = {'url': 'Url'}, inplace = True)"
   ]
  },
  {
   "cell_type": "code",
   "execution_count": 40,
   "metadata": {},
   "outputs": [],
   "source": [
    "df = pd.merge(left=df, right=df_test, left_on='Url', right_on='Url' )"
   ]
  },
  {
   "cell_type": "code",
   "execution_count": 41,
   "metadata": {},
   "outputs": [
    {
     "data": {
      "text/html": [
       "<div>\n",
       "<style scoped>\n",
       "    .dataframe tbody tr th:only-of-type {\n",
       "        vertical-align: middle;\n",
       "    }\n",
       "\n",
       "    .dataframe tbody tr th {\n",
       "        vertical-align: top;\n",
       "    }\n",
       "\n",
       "    .dataframe thead th {\n",
       "        text-align: right;\n",
       "    }\n",
       "</style>\n",
       "<table border=\"1\" class=\"dataframe\">\n",
       "  <thead>\n",
       "    <tr style=\"text-align: right;\">\n",
       "      <th></th>\n",
       "      <th>title</th>\n",
       "      <th>Url</th>\n",
       "      <th>evergreen_score</th>\n",
       "      <th>total_shares</th>\n",
       "      <th>total_facebook_shares</th>\n",
       "      <th>twitter_shares</th>\n",
       "      <th>pinterest_shares</th>\n",
       "      <th>total_reddit_engagements</th>\n",
       "      <th>published_date</th>\n",
       "      <th>article_types</th>\n",
       "      <th>...</th>\n",
       "      <th>ARI_Index</th>\n",
       "      <th>Title_Text</th>\n",
       "      <th>Title_Tag_Length</th>\n",
       "      <th>Meta_Description</th>\n",
       "      <th>Meta_Description_Length</th>\n",
       "      <th>Encoding</th>\n",
       "      <th>SSL</th>\n",
       "      <th>Page_Size_In_Bytes</th>\n",
       "      <th>Plain_Text_Size</th>\n",
       "      <th>Plain_Text_Rate</th>\n",
       "    </tr>\n",
       "  </thead>\n",
       "  <tbody>\n",
       "    <tr>\n",
       "      <td>0</td>\n",
       "      <td>Affiliate Marketing for Dummies: A Smart Guide...</td>\n",
       "      <td>https://gatheringdreams.com/affiliate-marketin...</td>\n",
       "      <td>1.54</td>\n",
       "      <td>8021</td>\n",
       "      <td>46</td>\n",
       "      <td>1</td>\n",
       "      <td>7974</td>\n",
       "      <td>0</td>\n",
       "      <td>2018-08-23</td>\n",
       "      <td>[\"all_content\", \"general_article\"]</td>\n",
       "      <td>...</td>\n",
       "      <td>21.2</td>\n",
       "      <td>Affiliate Marketing for Dummies: A Smart Guide...</td>\n",
       "      <td>79</td>\n",
       "      <td>A step-by-step affiliate marketing for dummies...</td>\n",
       "      <td>151</td>\n",
       "      <td>UTF-8</td>\n",
       "      <td>1</td>\n",
       "      <td>186434</td>\n",
       "      <td>27301</td>\n",
       "      <td>14.643788</td>\n",
       "    </tr>\n",
       "    <tr>\n",
       "      <td>1</td>\n",
       "      <td>HOW TO USE AFFILIATE MARKETING TO MAKE MONEY B...</td>\n",
       "      <td>https://itsclaudiag.com/2018/09/how-to-use-aff...</td>\n",
       "      <td>1.44</td>\n",
       "      <td>2569</td>\n",
       "      <td>3</td>\n",
       "      <td>1</td>\n",
       "      <td>2565</td>\n",
       "      <td>0</td>\n",
       "      <td>2018-09-16</td>\n",
       "      <td>[\"all_content\", \"how_to_article\", \"general_art...</td>\n",
       "      <td>...</td>\n",
       "      <td>17.6</td>\n",
       "      <td>HOW TO USE AFFILIATE MARKETING TO MAKE MONEY B...</td>\n",
       "      <td>69</td>\n",
       "      <td>Do you want to make money while you sleep? Her...</td>\n",
       "      <td>150</td>\n",
       "      <td>UTF-8</td>\n",
       "      <td>1</td>\n",
       "      <td>96481</td>\n",
       "      <td>6519</td>\n",
       "      <td>6.756771</td>\n",
       "    </tr>\n",
       "    <tr>\n",
       "      <td>2</td>\n",
       "      <td>How to Build a Profitable Business Online by S...</td>\n",
       "      <td>https://www.entrepreneur.com/article/319017</td>\n",
       "      <td>5.68</td>\n",
       "      <td>844</td>\n",
       "      <td>461</td>\n",
       "      <td>370</td>\n",
       "      <td>13</td>\n",
       "      <td>0</td>\n",
       "      <td>2018-09-12</td>\n",
       "      <td>[\"all_content\", \"how_to_article\", \"general_art...</td>\n",
       "      <td>...</td>\n",
       "      <td>18.6</td>\n",
       "      <td>How to Build a Profitable Business Online by S...</td>\n",
       "      <td>60</td>\n",
       "      <td>Learn three simple strategies to help you stac...</td>\n",
       "      <td>122</td>\n",
       "      <td>UTF-8</td>\n",
       "      <td>1</td>\n",
       "      <td>85973</td>\n",
       "      <td>5916</td>\n",
       "      <td>6.881230</td>\n",
       "    </tr>\n",
       "  </tbody>\n",
       "</table>\n",
       "<p>3 rows × 42 columns</p>\n",
       "</div>"
      ],
      "text/plain": [
       "                                               title  \\\n",
       "0  Affiliate Marketing for Dummies: A Smart Guide...   \n",
       "1  HOW TO USE AFFILIATE MARKETING TO MAKE MONEY B...   \n",
       "2  How to Build a Profitable Business Online by S...   \n",
       "\n",
       "                                                 Url  evergreen_score  \\\n",
       "0  https://gatheringdreams.com/affiliate-marketin...             1.54   \n",
       "1  https://itsclaudiag.com/2018/09/how-to-use-aff...             1.44   \n",
       "2        https://www.entrepreneur.com/article/319017             5.68   \n",
       "\n",
       "   total_shares  total_facebook_shares  twitter_shares  pinterest_shares  \\\n",
       "0          8021                     46               1              7974   \n",
       "1          2569                      3               1              2565   \n",
       "2           844                    461             370                13   \n",
       "\n",
       "   total_reddit_engagements published_date  \\\n",
       "0                         0     2018-08-23   \n",
       "1                         0     2018-09-16   \n",
       "2                         0     2018-09-12   \n",
       "\n",
       "                                       article_types  ... ARI_Index  \\\n",
       "0                 [\"all_content\", \"general_article\"]  ...      21.2   \n",
       "1  [\"all_content\", \"how_to_article\", \"general_art...  ...      17.6   \n",
       "2  [\"all_content\", \"how_to_article\", \"general_art...  ...      18.6   \n",
       "\n",
       "                                          Title_Text  Title_Tag_Length  \\\n",
       "0  Affiliate Marketing for Dummies: A Smart Guide...                79   \n",
       "1  HOW TO USE AFFILIATE MARKETING TO MAKE MONEY B...                69   \n",
       "2  How to Build a Profitable Business Online by S...                60   \n",
       "\n",
       "                                    Meta_Description  Meta_Description_Length  \\\n",
       "0  A step-by-step affiliate marketing for dummies...                      151   \n",
       "1  Do you want to make money while you sleep? Her...                      150   \n",
       "2  Learn three simple strategies to help you stac...                      122   \n",
       "\n",
       "  Encoding SSL Page_Size_In_Bytes Plain_Text_Size  Plain_Text_Rate  \n",
       "0    UTF-8   1             186434           27301        14.643788  \n",
       "1    UTF-8   1              96481            6519         6.756771  \n",
       "2    UTF-8   1              85973            5916         6.881230  \n",
       "\n",
       "[3 rows x 42 columns]"
      ]
     },
     "execution_count": 41,
     "metadata": {},
     "output_type": "execute_result"
    }
   ],
   "source": [
    "df.head(3)"
   ]
  },
  {
   "cell_type": "markdown",
   "metadata": {},
   "source": [
    "---------------------------------------------------------------------------------------------------------------------------------------------------------------------"
   ]
  },
  {
   "cell_type": "markdown",
   "metadata": {},
   "source": [
    "### Cleaning The BuzzSumo Data"
   ]
  },
  {
   "cell_type": "code",
   "execution_count": 42,
   "metadata": {},
   "outputs": [],
   "source": [
    "df.rename(columns = {'title': 'Title', 'evergreen_score': 'Evergreen_Score', 'total_shares': 'Total_Shares',\n",
    "                    'published_date': 'Published_Date', 'num_words': 'Word_Count'}, inplace=True)\n",
    "df['Published_Date'] = pd.to_datetime(df['Published_Date'])"
   ]
  },
  {
   "cell_type": "code",
   "execution_count": 43,
   "metadata": {},
   "outputs": [],
   "source": [
    "# Intiial_Columns_To_Drop\n",
    "df.drop(columns=['twitter_shares', 'pinterest_shares', \n",
    "                 'total_reddit_engagements', 'total_facebook_shares',\n",
    "                'thumbnail', 'Title'], inplace=True)"
   ]
  },
  {
   "cell_type": "code",
   "execution_count": 44,
   "metadata": {},
   "outputs": [
    {
     "data": {
      "text/plain": [
       "Url                                    object\n",
       "Evergreen_Score                       float64\n",
       "Total_Shares                            int64\n",
       "Published_Date                 datetime64[ns]\n",
       "article_types                          object\n",
       "article_amplifiers                     object\n",
       "author_name                            object\n",
       "Word_Count                              int64\n",
       "num_linking_domains                   float64\n",
       "Topic                                  object\n",
       "HTML_Content                           object\n",
       "Full_Text                              object\n",
       "Article_Text                           object\n",
       "Article_Text_Length                     int64\n",
       "Has_Top_Image                           int64\n",
       "Number_of_Movies                        int64\n",
       "Article_Is_Media_News                   int64\n",
       "Number_Of_Images                        int64\n",
       "Is_Valid_Body                           int64\n",
       "Setences_Text                          object\n",
       "Number_Of_Sentences                     int64\n",
       "Lexicon_Count                           int64\n",
       "Flesch_Reading_Ease_formula           float64\n",
       "Flesch_Kincaid_Grade_Level            float64\n",
       "FOG_Scale                             float64\n",
       "SMOG_Index                            float64\n",
       "ARI_Index                             float64\n",
       "Title_Text                             object\n",
       "Title_Tag_Length                        int64\n",
       "Meta_Description                       object\n",
       "Meta_Description_Length                 int64\n",
       "Encoding                               object\n",
       "SSL                                     int64\n",
       "Page_Size_In_Bytes                      int64\n",
       "Plain_Text_Size                         int64\n",
       "Plain_Text_Rate                       float64\n",
       "dtype: object"
      ]
     },
     "execution_count": 44,
     "metadata": {},
     "output_type": "execute_result"
    }
   ],
   "source": [
    "df.dtypes"
   ]
  },
  {
   "cell_type": "code",
   "execution_count": 45,
   "metadata": {},
   "outputs": [
    {
     "name": "stdout",
     "output_type": "stream",
     "text": [
      "<class 'pandas.core.frame.DataFrame'>\n",
      "Int64Index: 15963 entries, 0 to 15962\n",
      "Data columns (total 36 columns):\n",
      "Url                            15963 non-null object\n",
      "Evergreen_Score                15963 non-null float64\n",
      "Total_Shares                   15963 non-null int64\n",
      "Published_Date                 15963 non-null datetime64[ns]\n",
      "article_types                  15963 non-null object\n",
      "article_amplifiers             2613 non-null object\n",
      "author_name                    11192 non-null object\n",
      "Word_Count                     15963 non-null int64\n",
      "num_linking_domains            3215 non-null float64\n",
      "Topic                          15963 non-null object\n",
      "HTML_Content                   15963 non-null object\n",
      "Full_Text                      15963 non-null object\n",
      "Article_Text                   15926 non-null object\n",
      "Article_Text_Length            15963 non-null int64\n",
      "Has_Top_Image                  15963 non-null int64\n",
      "Number_of_Movies               15963 non-null int64\n",
      "Article_Is_Media_News          15963 non-null int64\n",
      "Number_Of_Images               15963 non-null int64\n",
      "Is_Valid_Body                  15963 non-null int64\n",
      "Setences_Text                  15963 non-null object\n",
      "Number_Of_Sentences            15963 non-null int64\n",
      "Lexicon_Count                  15963 non-null int64\n",
      "Flesch_Reading_Ease_formula    15963 non-null float64\n",
      "Flesch_Kincaid_Grade_Level     15963 non-null float64\n",
      "FOG_Scale                      15963 non-null float64\n",
      "SMOG_Index                     15963 non-null float64\n",
      "ARI_Index                      15963 non-null float64\n",
      "Title_Text                     15960 non-null object\n",
      "Title_Tag_Length               15963 non-null int64\n",
      "Meta_Description               15782 non-null object\n",
      "Meta_Description_Length        15963 non-null int64\n",
      "Encoding                       15962 non-null object\n",
      "SSL                            15963 non-null int64\n",
      "Page_Size_In_Bytes             15963 non-null int64\n",
      "Plain_Text_Size                15963 non-null int64\n",
      "Plain_Text_Rate                15963 non-null float64\n",
      "dtypes: datetime64[ns](1), float64(8), int64(15), object(12)\n",
      "memory usage: 4.5+ MB\n"
     ]
    }
   ],
   "source": [
    "df.info()"
   ]
  },
  {
   "cell_type": "markdown",
   "metadata": {},
   "source": [
    "### Creating Dummy Columns "
   ]
  },
  {
   "cell_type": "code",
   "execution_count": 46,
   "metadata": {},
   "outputs": [],
   "source": [
    "def dummies(cell):\n",
    "    try:\n",
    "        if np.isnan(cell) == True:\n",
    "            return 0\n",
    "        else:\n",
    "            return 1\n",
    "    except:\n",
    "        if pd.isnull(cell) == True:\n",
    "            return 0\n",
    "        else:\n",
    "            return 1"
   ]
  },
  {
   "cell_type": "code",
   "execution_count": 47,
   "metadata": {},
   "outputs": [],
   "source": [
    "#Dummifying Columns\n",
    "df['Has_Referring_Domains'] = df['num_linking_domains'].apply(dummies)\n",
    "df['Has_Article_Amplifiers'] = df['article_amplifiers'].apply(dummies)\n",
    "df['Has_Author_Name'] = df['author_name'].apply(dummies)\n",
    "\n",
    "\n",
    "#Creating Topics As Additional Dummis\n",
    "df = pd.get_dummies(df, columns=['Topic', 'Encoding'], drop_first=True)"
   ]
  },
  {
   "cell_type": "code",
   "execution_count": 48,
   "metadata": {},
   "outputs": [],
   "source": [
    "#Cleaning_Columns\n",
    "linking_domains = [0 if np.isnan(item) else item for item in df['num_linking_domains']]\n",
    "df['num_linking_domains'] = linking_domains"
   ]
  },
  {
   "cell_type": "code",
   "execution_count": 49,
   "metadata": {},
   "outputs": [],
   "source": [
    "#Extract The Article Amplifiers For Dummifying\n",
    "def article_amplifiers(cell):\n",
    "        if pd.isna(cell):\n",
    "            return 0\n",
    "        else:\n",
    "            x = ast.literal_eval(cell)\n",
    "            length = len(x)\n",
    "            cell = str(cell)\n",
    "            return length"
   ]
  },
  {
   "cell_type": "code",
   "execution_count": 50,
   "metadata": {},
   "outputs": [],
   "source": [
    "#Extracting The Number of Article Amplifiers\n",
    "df['Number_Of_Article_Amplifiers'] = df['article_amplifiers'].apply(article_amplifiers)"
   ]
  },
  {
   "cell_type": "code",
   "execution_count": 51,
   "metadata": {},
   "outputs": [],
   "source": [
    "#Code For Cleaning The Article Types\n",
    "new_list = []\n",
    "\n",
    "import ast\n",
    "for row in df['article_types']:\n",
    "    temp_list = []\n",
    "    x = ast.literal_eval(row)\n",
    "    for items in x:\n",
    "        if items != 'all_content':\n",
    "            temp_list.append(items)\n",
    "    new_list.append(temp_list)"
   ]
  },
  {
   "cell_type": "code",
   "execution_count": 52,
   "metadata": {},
   "outputs": [],
   "source": [
    "df['article_types'] = [str(items) for items in new_list] \n",
    "df = pd.get_dummies(df, columns=['article_types'], drop_first = True)"
   ]
  },
  {
   "cell_type": "code",
   "execution_count": 53,
   "metadata": {},
   "outputs": [],
   "source": [
    "#Last Round Of Dropping Columns -- Potentially Remove These Lines\n",
    "df.drop(axis = 1 , columns = ['article_amplifiers', 'author_name'], inplace=True)"
   ]
  },
  {
   "cell_type": "code",
   "execution_count": 54,
   "metadata": {},
   "outputs": [
    {
     "data": {
      "text/plain": [
       "Url                                                                      object\n",
       "Evergreen_Score                                                         float64\n",
       "Total_Shares                                                              int64\n",
       "Published_Date                                                   datetime64[ns]\n",
       "Word_Count                                                                int64\n",
       "                                                                      ...      \n",
       "article_types_['what_post', 'general_article']                            uint8\n",
       "article_types_['what_post', 'infographic', 'general_article']             uint8\n",
       "article_types_['what_post', 'newsletter', 'general_article']              uint8\n",
       "article_types_['why_post', 'general_article']                             uint8\n",
       "article_types_['why_post', 'newsletter', 'general_article']               uint8\n",
       "Length: 69, dtype: object"
      ]
     },
     "execution_count": 54,
     "metadata": {},
     "output_type": "execute_result"
    }
   ],
   "source": [
    "df.dtypes"
   ]
  },
  {
   "cell_type": "code",
   "execution_count": 56,
   "metadata": {},
   "outputs": [
    {
     "name": "stdout",
     "output_type": "stream",
     "text": [
      "Url\n",
      "HTML_Content\n",
      "Full_Text\n",
      "Article_Text\n",
      "Setences_Text\n",
      "Title_Text\n",
      "Meta_Description\n"
     ]
    }
   ],
   "source": [
    "for y in df.columns:\n",
    "    if df[y].dtype == 'object':\n",
    "        print(y)"
   ]
  },
  {
   "cell_type": "code",
   "execution_count": 57,
   "metadata": {},
   "outputs": [],
   "source": [
    "# Removing any redundant columns \n",
    "\n",
    "df.drop(axis = 1 , columns = ['HTML_Content', 'Full_Text'], inplace = True)"
   ]
  },
  {
   "cell_type": "code",
   "execution_count": 58,
   "metadata": {},
   "outputs": [
    {
     "data": {
      "image/png": "[encoded data removed]",
      "text/plain": [
       "<Figure size 1440x648 with 1 Axes>"
      ]
     },
     "metadata": {
      "needs_background": "light"
     },
     "output_type": "display_data"
    }
   ],
   "source": [
    "fig, ax = plt.subplots(figsize=(20,9))\n",
    "sns.distplot(df['Total_Shares'], bins=240)\n",
    "plt.show()"
   ]
  },
  {
   "cell_type": "markdown",
   "metadata": {},
   "source": [
    "---------------------------------------------------------------------------------------------------------------------------------------------------------------------"
   ]
  }
 ],
 "metadata": {
  "kernelspec": {
   "display_name": "Python 3",
   "language": "python",
   "name": "python3"
  },
  "language_info": {
   "codemirror_mode": {
    "name": "ipython",
    "version": 3
   },
   "file_extension": ".py",
   "mimetype": "text/x-python",
   "name": "python",
   "nbconvert_exporter": "python",
   "pygments_lexer": "ipython3",
   "version": "3.7.3"
  }
 },
 "nbformat": 4,
 "nbformat_minor": 2
}
